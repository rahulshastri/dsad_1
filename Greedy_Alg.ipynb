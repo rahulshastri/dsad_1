{
 "cells": [
  {
   "cell_type": "code",
   "execution_count": 84,
   "id": "d490a2ee",
   "metadata": {},
   "outputs": [],
   "source": [
    "def readFile(inputfile):\n",
    "    inputfile = open(inputfile,\"r\")\n",
    "    line = inputfile.readline()\n",
    "    while line:\n",
    "\n",
    "        count = findPairs(line)\n",
    "        writeOutput(count)\n",
    "                                \n",
    "        line = inputfile.readline()    \n",
    "    \n",
    "    inputfile.close()\n",
    "\n",
    "def findPairs(shelf):\n",
    "    L_Count = 0\n",
    "    R_Count = 0\n",
    "    pair_Count = 0\n",
    "    pair = \"\"\n",
    "    length = len(shelf)-1\n",
    "\n",
    "    for i in range(0,length):\n",
    "\n",
    "        if shelf[i] == \"L\":\n",
    "            pair_L = shelf[i]\n",
    "            L_Count = L_Count + 1 \n",
    "            pair = pair+pair_L\n",
    "\n",
    "            \n",
    "        if shelf[i] == \"R\":\n",
    "            pair_R = shelf[i]\n",
    "            R_Count = R_Count + 1\n",
    "            pair = pair+pair_R\n",
    "            \n",
    "        if L_Count == R_Count:\n",
    "                                    \n",
    "            pair_Count = pair_Count + 1\n",
    "           \n",
    "            L_Count = 0\n",
    "            R_Count = 0 \n",
    "            pair = \"\"\n",
    "    return pair_Count        \n",
    "            \n",
    "def writeOutput(num_pairs):\n",
    "    outputPS06.write(str(num_pairs)+'\\n')\n",
    "    \n",
    "    \n",
    "outputPS06 = open(\"outputPS06.txt\",\"w\")    \n",
    "readFile(\"inputPS06.txt\")\n",
    "outputPS06.close()\n",
    "\n"
   ]
  }
 ],
 "metadata": {
  "kernelspec": {
   "display_name": "Python 3",
   "language": "python",
   "name": "python3"
  },
  "language_info": {
   "codemirror_mode": {
    "name": "ipython",
    "version": 3
   },
   "file_extension": ".py",
   "mimetype": "text/x-python",
   "name": "python",
   "nbconvert_exporter": "python",
   "pygments_lexer": "ipython3",
   "version": "3.8.8"
  }
 },
 "nbformat": 4,
 "nbformat_minor": 5
}
